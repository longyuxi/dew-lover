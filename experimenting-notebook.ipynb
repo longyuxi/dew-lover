{
 "metadata": {
  "language_info": {
   "codemirror_mode": {
    "name": "ipython",
    "version": 3
   },
   "file_extension": ".py",
   "mimetype": "text/x-python",
   "name": "python",
   "nbconvert_exporter": "python",
   "pygments_lexer": "ipython3",
   "version": "3.6.9-final"
  },
  "orig_nbformat": 2,
  "kernelspec": {
   "name": "python3",
   "display_name": "Python 3"
  }
 },
 "nbformat": 4,
 "nbformat_minor": 2,
 "cells": [
  {
   "source": [
    "import pysam\n",
    "\n",
    "filename = \"data/Alignments/LE-Gal4_sorted.bam\"\n",
    "samfile = pysam.AlignmentFile(filename, \"rb\")"
   ],
   "cell_type": "code",
   "metadata": {},
   "execution_count": 1,
   "outputs": []
  },
  {
   "cell_type": "code",
   "execution_count": 4,
   "metadata": {},
   "outputs": [
    {
     "output_type": "execute_result",
     "data": {
      "text/plain": [
       "1"
      ]
     },
     "metadata": {},
     "execution_count": 4
    }
   ],
   "source": [
    "def levenshtein(a,b):\n",
    "    \"Calculates the Levenshtein distance between a and b.\"\n",
    "    n, m = len(a), len(b)\n",
    "    if n > m:\n",
    "        # Make sure n <= m, to use O(min(n,m)) space\n",
    "        a,b = b,a\n",
    "        n,m = m,n\n",
    "        \n",
    "    current = range(n+1)\n",
    "    for i in range(1,m+1):\n",
    "        previous, current = current, [i]+[0]*n\n",
    "        for j in range(1,n+1):\n",
    "            add, delete = previous[j]+1, current[j-1]+1\n",
    "            change = previous[j-1]\n",
    "            if a[j-1] != b[i-1]:\n",
    "                change = change + 1\n",
    "            current[j] = min(add, delete, change)\n",
    "            \n",
    "    return current[n]"
   ]
  },
  {
   "cell_type": "code",
   "execution_count": 3,
   "metadata": {
    "tags": []
   },
   "outputs": [
    {
     "output_type": "stream",
     "name": "stdout",
     "text": [
      "\ncoverage at base 34 = 3\nLev distance between base 34 and the base before = 3\n\ncoverage at base 35 = 3\nLev distance between base 35 and the base before = 0\n\ncoverage at base 36 = 3\nLev distance between base 36 and the base before = 0\n\ncoverage at base 37 = 3\nLev distance between base 37 and the base before = 0\n\ncoverage at base 38 = 3\nLev distance between base 38 and the base before = 0\n\ncoverage at base 39 = 3\nLev distance between base 39 and the base before = 0\n\ncoverage at base 40 = 3\nLev distance between base 40 and the base before = 0\n\ncoverage at base 41 = 3\nLev distance between base 41 and the base before = 0\n\ncoverage at base 42 = 3\nLev distance between base 42 and the base before = 0\n\ncoverage at base 43 = 3\nLev distance between base 43 and the base before = 0\n\ncoverage at base 44 = 3\nLev distance between base 44 and the base before = 0\n\ncoverage at base 45 = 3\nLev distance between base 45 and the base before = 0\n\ncoverage at base 46 = 3\nLev distance between base 46 and the base before = 0\n\ncoverage at base 47 = 3\nLev distance between base 47 and the base before = 0\n\ncoverage at base 48 = 3\nLev distance between base 48 and the base before = 0\n\ncoverage at base 49 = 3\nLev distance between base 49 and the base before = 0\n\ncoverage at base 50 = 3\nLev distance between base 50 and the base before = 0\n\ncoverage at base 51 = 3\nLev distance between base 51 and the base before = 0\n\ncoverage at base 52 = 3\nLev distance between base 52 and the base before = 0\n\ncoverage at base 53 = 3\nLev distance between base 53 and the base before = 0\n\ncoverage at base 54 = 4\nLev distance between base 54 and the base before = 1\n\ncoverage at base 55 = 4\nLev distance between base 55 and the base before = 1\n\ncoverage at base 56 = 4\nLev distance between base 56 and the base before = 0\n\ncoverage at base 57 = 4\nLev distance between base 57 and the base before = 0\n\ncoverage at base 58 = 4\nLev distance between base 58 and the base before = 0\n\ncoverage at base 59 = 4\nLev distance between base 59 and the base before = 0\n\ncoverage at base 60 = 4\nLev distance between base 60 and the base before = 0\n\ncoverage at base 61 = 4\nLev distance between base 61 and the base before = 0\n\ncoverage at base 62 = 6\nLev distance between base 62 and the base before = 2\n\ncoverage at base 63 = 6\nLev distance between base 63 and the base before = 0\n\ncoverage at base 64 = 6\nLev distance between base 64 and the base before = 1\n\ncoverage at base 65 = 6\nLev distance between base 65 and the base before = 1\n\ncoverage at base 66 = 6\nLev distance between base 66 and the base before = 0\n\ncoverage at base 67 = 6\nLev distance between base 67 and the base before = 0\n\ncoverage at base 68 = 8\nLev distance between base 68 and the base before = 1\n\ncoverage at base 69 = 9\nLev distance between base 69 and the base before = 1\n\ncoverage at base 70 = 9\nLev distance between base 70 and the base before = 0\n\ncoverage at base 71 = 9\nLev distance between base 71 and the base before = 0\n\ncoverage at base 72 = 9\nLev distance between base 72 and the base before = 0\n\ncoverage at base 73 = 9\nLev distance between base 73 and the base before = 0\n\ncoverage at base 74 = 9\nLev distance between base 74 and the base before = 0\n\ncoverage at base 75 = 9\nLev distance between base 75 and the base before = 0\n\ncoverage at base 76 = 12\nLev distance between base 76 and the base before = 3\n\ncoverage at base 77 = 12\nLev distance between base 77 and the base before = 0\n\ncoverage at base 78 = 12\nLev distance between base 78 and the base before = 0\n\ncoverage at base 79 = 12\nLev distance between base 79 and the base before = 0\n\ncoverage at base 80 = 13\nLev distance between base 80 and the base before = 1\n\ncoverage at base 81 = 14\nLev distance between base 81 and the base before = 0\n\ncoverage at base 82 = 18\nLev distance between base 82 and the base before = 4\n\ncoverage at base 83 = 18\nLev distance between base 83 and the base before = 0\n\ncoverage at base 84 = 18\nLev distance between base 84 and the base before = 0\n\ncoverage at base 85 = 18\nLev distance between base 85 and the base before = 0\n\ncoverage at base 86 = 19\nLev distance between base 86 and the base before = 1\n\ncoverage at base 87 = 19\nLev distance between base 87 and the base before = 0\n\ncoverage at base 88 = 19\nLev distance between base 88 and the base before = 0\n\ncoverage at base 89 = 19\nLev distance between base 89 and the base before = 0\n\ncoverage at base 90 = 20\nLev distance between base 90 and the base before = 1\n\ncoverage at base 91 = 20\nLev distance between base 91 and the base before = 1\n\ncoverage at base 92 = 20\nLev distance between base 92 and the base before = 1\n\ncoverage at base 93 = 21\nLev distance between base 93 and the base before = 1\n\ncoverage at base 94 = 21\nLev distance between base 94 and the base before = 0\n\ncoverage at base 95 = 22\nLev distance between base 95 and the base before = 1\n\ncoverage at base 96 = 22\nLev distance between base 96 and the base before = 0\n\ncoverage at base 97 = 22\nLev distance between base 97 and the base before = 0\n\ncoverage at base 98 = 22\nLev distance between base 98 and the base before = 0\n\ncoverage at base 99 = 23\nLev distance between base 99 and the base before = 1\n\ncoverage at base 100 = 23\nLev distance between base 100 and the base before = 0\n\ncoverage at base 101 = 23\nLev distance between base 101 and the base before = 0\n\ncoverage at base 102 = 23\nLev distance between base 102 and the base before = 1\n\ncoverage at base 103 = 23\nLev distance between base 103 and the base before = 1\n\ncoverage at base 104 = 30\nLev distance between base 104 and the base before = 6\n\ncoverage at base 105 = 30\nLev distance between base 105 and the base before = 0\n\ncoverage at base 106 = 30\nLev distance between base 106 and the base before = 1\n\ncoverage at base 107 = 30\nLev distance between base 107 and the base before = 1\n\ncoverage at base 108 = 30\nLev distance between base 108 and the base before = 0\n\ncoverage at base 109 = 31\nLev distance between base 109 and the base before = 1\n\ncoverage at base 110 = 31\nLev distance between base 110 and the base before = 0\n\ncoverage at base 111 = 31\nLev distance between base 111 and the base before = 0\n\ncoverage at base 112 = 32\nLev distance between base 112 and the base before = 1\n\ncoverage at base 113 = 32\nLev distance between base 113 and the base before = 0\n\ncoverage at base 114 = 32\nLev distance between base 114 and the base before = 0\n\ncoverage at base 115 = 32\nLev distance between base 115 and the base before = 0\n\ncoverage at base 116 = 33\nLev distance between base 116 and the base before = 1\n\ncoverage at base 117 = 36\nLev distance between base 117 and the base before = 2\n\ncoverage at base 118 = 36\nLev distance between base 118 and the base before = 0\n\ncoverage at base 119 = 36\nLev distance between base 119 and the base before = 2\n\ncoverage at base 120 = 37\nLev distance between base 120 and the base before = 2\n\ncoverage at base 121 = 37\nLev distance between base 121 and the base before = 2\n\ncoverage at base 122 = 37\nLev distance between base 122 and the base before = 0\n\ncoverage at base 123 = 37\nLev distance between base 123 and the base before = 0\n\ncoverage at base 124 = 37\nLev distance between base 124 and the base before = 0\n\ncoverage at base 125 = 37\nLev distance between base 125 and the base before = 1\n\ncoverage at base 126 = 37\nLev distance between base 126 and the base before = 2\n\ncoverage at base 127 = 37\nLev distance between base 127 and the base before = 2\n\ncoverage at base 128 = 37\nLev distance between base 128 and the base before = 1\n\ncoverage at base 129 = 40\nLev distance between base 129 and the base before = 1\n\ncoverage at base 130 = 43\nLev distance between base 130 and the base before = 5\n\ncoverage at base 131 = 43\nLev distance between base 131 and the base before = 2\n\ncoverage at base 132 = 43\nLev distance between base 132 and the base before = 2\n\ncoverage at base 133 = 43\nLev distance between base 133 and the base before = 1\n104 6\n130 5\n82 4\n34 3\n76 3\n62 2\n117 2\n119 2\n120 2\n121 2\n126 2\n127 2\n131 2\n132 2\n54 1\n55 1\n64 1\n65 1\n68 1\n69 1\n80 1\n86 1\n90 1\n91 1\n92 1\n93 1\n95 1\n99 1\n102 1\n103 1\n106 1\n107 1\n109 1\n112 1\n116 1\n125 1\n128 1\n129 1\n133 1\n35 0\n36 0\n37 0\n38 0\n39 0\n40 0\n41 0\n42 0\n43 0\n44 0\n45 0\n46 0\n47 0\n48 0\n49 0\n50 0\n51 0\n52 0\n53 0\n56 0\n57 0\n58 0\n59 0\n60 0\n61 0\n63 0\n66 0\n67 0\n70 0\n71 0\n72 0\n73 0\n74 0\n75 0\n77 0\n78 0\n79 0\n81 0\n83 0\n84 0\n85 0\n87 0\n88 0\n89 0\n94 0\n96 0\n97 0\n98 0\n100 0\n101 0\n105 0\n108 0\n110 0\n111 0\n113 0\n114 0\n115 0\n118 0\n122 0\n123 0\n124 0\n\ncoverage at base 134 = 43\nLev distance between base 134 and the base before = 0\n"
     ]
    }
   ],
   "source": [
    "import pysam\n",
    "samfile = pysam.AlignmentFile(filename, \"rb\" )\n",
    "lev_d_dictionary = {}\n",
    "depth_dictionary = {}\n",
    "current_reads = []\n",
    "\n",
    "def write_current_data():\n",
    "    with open('chasm.txt', 'w') as output_file:\n",
    "        output_file.write('Read Number,Lev Distance,Read Depth,Lev D/Read Depth\\n')\n",
    "        for w in sorted(lev_d_dictionary, key=lev_d_dictionary.get, reverse=True):\n",
    "            # print(w, lev_d_dictionary[w])\n",
    "            if depth_dictionary[w] != 0:\n",
    "                percentage_distance = float(lev_d_dictionary[w]/depth_dictionary[w])\n",
    "            else:\n",
    "                percentage_distance = 'n/a'\n",
    "            output_file.write(','.join((str(w), str(lev_d_dictionary[w]), str(depth_dictionary[w]), str(percentage_distance))) + '\\n')\n",
    "    print(\"======FILE WRITTEN======\")\n",
    "\n",
    "i = 0 # for debug purposes\n",
    "\n",
    "pu = samfile.pileup()\n",
    "for pileupcolumn in samfile.pileup():\n",
    "    print (\"\\ncoverage at base %s = %s\" %\n",
    "           (pileupcolumn.pos, pileupcolumn.n))\n",
    "    last_reads = current_reads[:]\n",
    "    current_reads = []\n",
    "    \n",
    "\n",
    "\n",
    "    for pileupread in pileupcolumn.pileups:\n",
    "    # if True:\n",
    "    #     pileupread = pileupcolumn.pileups\n",
    "\n",
    "        if not pileupread.is_del and not pileupread.is_refskip:\n",
    "            # query position is None if is_del or is_refskip is set.\n",
    "            current_reads.append(pileupread.alignment.query_name)\n",
    "            # print ('\\tbase in read %s = %s' %\n",
    "            #       (pileupread.alignment.query_name,\n",
    "            #        pileupread.alignment.query_sequence[pileupread.query_position]))\n",
    "    # print(\"Last Reads: \" + str(last_reads))\n",
    "    # print(\"Current Reads: \" + str(current_reads))\n",
    "    lev_d = levenshtein(last_reads,current_reads)\n",
    "    print (\"Lev distance between base %s and the base before = %s\" %\n",
    "           (pileupcolumn.pos, lev_d))\n",
    "    lev_d_dictionary[pileupcolumn.pos] = lev_d\n",
    "    depth_dictionary[pileupcolumn.pos] = pileupcolumn.n\n",
    "\n",
    "    i += 1\n",
    "    if i % 100 == 0:\n",
    "        write_current_data()\n",
    "    # if i > 1000:\n",
    "    #     break # for debug purposes\n",
    "\n"
   ]
  },
  {
   "cell_type": "code",
   "execution_count": null,
   "metadata": {},
   "outputs": [],
   "source": []
  }
 ]
}