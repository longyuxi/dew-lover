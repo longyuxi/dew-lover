{
 "metadata": {
  "language_info": {
   "codemirror_mode": {
    "name": "ipython",
    "version": 3
   },
   "file_extension": ".py",
   "mimetype": "text/x-python",
   "name": "python",
   "nbconvert_exporter": "python",
   "pygments_lexer": "ipython3",
   "version": "3.6.9-final"
  },
  "orig_nbformat": 2,
  "kernelspec": {
   "name": "python3",
   "display_name": "Python 3.6.9 64-bit",
   "metadata": {
    "interpreter": {
     "hash": "31f2aee4e71d21fbe5cf8b01ff0e069b9275f58929596ceb00d14d90e3e16cd6"
    }
   }
  }
 },
 "nbformat": 4,
 "nbformat_minor": 2,
 "cells": [
  {
   "source": [
    "import pysam\n",
    "\n",
    "filename = \"data/Alignments/LE-Gal4_sorted.bam\"\n",
    "samfile = pysam.AlignmentFile(filename, \"rb\")"
   ],
   "cell_type": "code",
   "metadata": {},
   "execution_count": 1,
   "outputs": []
  },
  {
   "cell_type": "code",
   "execution_count": 2,
   "metadata": {},
   "outputs": [],
   "source": [
    "def levenshtein(a,b):\n",
    "    \"Calculates the Levenshtein distance between a and b.\"\n",
    "    n, m = len(a), len(b)\n",
    "    if n > m:\n",
    "        # Make sure n <= m, to use O(min(n,m)) space\n",
    "        a,b = b,a\n",
    "        n,m = m,n\n",
    "        \n",
    "    current = range(n+1)\n",
    "    for i in range(1,m+1):\n",
    "        previous, current = current, [i]+[0]*n\n",
    "        for j in range(1,n+1):\n",
    "            add, delete = previous[j]+1, current[j-1]+1\n",
    "            change = previous[j-1]\n",
    "            if a[j-1] != b[i-1]:\n",
    "                change = change + 1\n",
    "            current[j] = min(add, delete, change)\n",
    "            \n",
    "    return current[n]"
   ]
  },
  {
   "cell_type": "code",
   "execution_count": 3,
   "metadata": {
    "tags": []
   },
   "outputs": [
    {
     "output_type": "stream",
     "name": "stdout",
     "text": [
      "\ncoverage at base 34 = 3\n\tbase in read A00257:150:HCT7MDRXX:2:2137:9498:14497 = C\n\tbase in read A00257:150:HCT7MDRXX:2:2150:10004:16626 = C\n\tbase in read A00257:150:HCT7MDRXX:2:2251:10339:30483 = C\nLev distance between base 34 and the base before = 3\n\ncoverage at base 35 = 3\n\tbase in read A00257:150:HCT7MDRXX:2:2137:9498:14497 = A\n\tbase in read A00257:150:HCT7MDRXX:2:2150:10004:16626 = A\n\tbase in read A00257:150:HCT7MDRXX:2:2251:10339:30483 = A\nLev distance between base 35 and the base before = 0\n\ncoverage at base 36 = 3\n\tbase in read A00257:150:HCT7MDRXX:2:2137:9498:14497 = T\n\tbase in read A00257:150:HCT7MDRXX:2:2150:10004:16626 = T\n\tbase in read A00257:150:HCT7MDRXX:2:2251:10339:30483 = T\nLev distance between base 36 and the base before = 0\n\ncoverage at base 37 = 3\n\tbase in read A00257:150:HCT7MDRXX:2:2137:9498:14497 = T\n\tbase in read A00257:150:HCT7MDRXX:2:2150:10004:16626 = T\n\tbase in read A00257:150:HCT7MDRXX:2:2251:10339:30483 = T\nLev distance between base 37 and the base before = 0\n\ncoverage at base 38 = 3\n\tbase in read A00257:150:HCT7MDRXX:2:2137:9498:14497 = A\n\tbase in read A00257:150:HCT7MDRXX:2:2150:10004:16626 = A\n\tbase in read A00257:150:HCT7MDRXX:2:2251:10339:30483 = A\nLev distance between base 38 and the base before = 0\n\ncoverage at base 39 = 3\n\tbase in read A00257:150:HCT7MDRXX:2:2137:9498:14497 = A\n\tbase in read A00257:150:HCT7MDRXX:2:2150:10004:16626 = A\n\tbase in read A00257:150:HCT7MDRXX:2:2251:10339:30483 = A\nLev distance between base 39 and the base before = 0\n\ncoverage at base 40 = 3\n\tbase in read A00257:150:HCT7MDRXX:2:2137:9498:14497 = A\n\tbase in read A00257:150:HCT7MDRXX:2:2150:10004:16626 = A\n\tbase in read A00257:150:HCT7MDRXX:2:2251:10339:30483 = A\nLev distance between base 40 and the base before = 0\n\ncoverage at base 41 = 3\n\tbase in read A00257:150:HCT7MDRXX:2:2137:9498:14497 = T\n\tbase in read A00257:150:HCT7MDRXX:2:2150:10004:16626 = T\n\tbase in read A00257:150:HCT7MDRXX:2:2251:10339:30483 = T\nLev distance between base 41 and the base before = 0\n\ncoverage at base 42 = 3\n\tbase in read A00257:150:HCT7MDRXX:2:2137:9498:14497 = G\n\tbase in read A00257:150:HCT7MDRXX:2:2150:10004:16626 = G\n\tbase in read A00257:150:HCT7MDRXX:2:2251:10339:30483 = G\nLev distance between base 42 and the base before = 0\n\ncoverage at base 43 = 3\n\tbase in read A00257:150:HCT7MDRXX:2:2137:9498:14497 = C\n\tbase in read A00257:150:HCT7MDRXX:2:2150:10004:16626 = T\n\tbase in read A00257:150:HCT7MDRXX:2:2251:10339:30483 = T\nLev distance between base 43 and the base before = 0\n\ncoverage at base 44 = 3\n34 3\n35 0\n36 0\n37 0\n38 0\n39 0\n40 0\n41 0\n42 0\n43 0\n"
     ]
    }
   ],
   "source": [
    "import pysam\n",
    "samfile = pysam.AlignmentFile(filename, \"rb\" )\n",
    "lev_d_dictionary = {}\n",
    "current_reads = []\n",
    "\n",
    "i = 0 # for debug purposes\n",
    "\n",
    "for pileupcolumn in samfile.pileup():\n",
    "    print (\"\\ncoverage at base %s = %s\" %\n",
    "           (pileupcolumn.pos, pileupcolumn.n))\n",
    "    last_reads = current_reads[:]\n",
    "    current_reads = []\n",
    "    \n",
    "    i += 1\n",
    "    if i > 10:\n",
    "        break # for debug purposes\n",
    "\n",
    "    for pileupread in pileupcolumn.pileups:\n",
    "\n",
    "        if not pileupread.is_del and not pileupread.is_refskip:\n",
    "            # query position is None if is_del or is_refskip is set.\n",
    "            current_reads.append(pileupread.alignment.query_name)\n",
    "            print ('\\tbase in read %s = %s' %\n",
    "                  (pileupread.alignment.query_name,\n",
    "                   pileupread.alignment.query_sequence[pileupread.query_position]))\n",
    "    # print(\"Last Reads: \" + str(last_reads))\n",
    "    # print(\"Current Reads: \" + str(current_reads))\n",
    "    lev_d = levenshtein(last_reads,current_reads)\n",
    "    print (\"Lev distance between base %s and the base before = %s\" %\n",
    "           (pileupcolumn.pos, lev_d))\n",
    "    lev_d_dictionary[pileupcolumn.pos] = lev_d\n",
    "\n",
    "samfile.close()\n",
    "\n",
    "with open('chasm.txt', 'w') as output_file:\n",
    "    for w in sorted(lev_d_dictionary, key=lev_d_dictionary.get, reverse=True):\n",
    "        print(w, lev_d_dictionary[w])\n",
    "        output_file.write(','.join((str(w), str(lev_d_dictionary[w]))) + '\\n')"
   ]
  },
  {
   "cell_type": "code",
   "execution_count": null,
   "metadata": {},
   "outputs": [],
   "source": []
  }
 ]
}